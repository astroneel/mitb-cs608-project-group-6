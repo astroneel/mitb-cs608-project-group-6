{
 "cells": [
  {
   "cell_type": "code",
   "execution_count": null,
   "metadata": {
    "id": "gz0Bq3NFaCY3"
   },
   "outputs": [],
   "source": [
    "# Imports\n",
    "\n",
    "import io\n",
    "import pickle\n",
    "import pandas as pd\n",
    "import numpy as np\n",
    "from PIL import Image\n",
    "\n",
    "import tensorflow as tf\n",
    "import tensorflow_hub as hub\n"
   ]
  },
  {
   "cell_type": "code",
   "execution_count": null,
   "metadata": {
    "id": "lTeSLIVSgPWN"
   },
   "outputs": [],
   "source": [
    "# Instantiating ResNet Model\n",
    "\n",
    "model_url = \"https://tfhub.dev/google/imagenet/resnet_v2_101/feature_vector/5\"\n",
    "\n",
    "IMAGE_SHAPE = (224, 224)\n",
    "\n",
    "layer = hub.KerasLayer(model_url, input_shape = IMAGE_SHAPE + (3, ))\n",
    "model = tf.keras.Sequential([layer])\n"
   ]
  },
  {
   "cell_type": "code",
   "execution_count": null,
   "metadata": {
    "id": "IsgoMnLjgzfg"
   },
   "outputs": [],
   "source": [
    "# Load PKL file containing downsized scraped images\n",
    "\n",
    "with open(\"/content/drive/MyDrive/Recommender_project_2/image_results_downsized/images_results_41_downsized.pickle\", \"rb\") as file:\n",
    "    \n",
    "    loaded_dict = pickle.load(file)\n"
   ]
  },
  {
   "cell_type": "code",
   "execution_count": null,
   "metadata": {
    "id": "XDXYBRgrKw7d"
   },
   "outputs": [],
   "source": [
    "'''\n",
    "For each game in the pickle\n",
    "For each image in the game images array\n",
    "Open the byte array to image in RGB\n",
    "Resize the image accordingly\n",
    "Convert to numpy array\n",
    "Use the model to get the embeddings (features)\n",
    "Flatten the features\n",
    "Append it to the final results\n",
    "'''\n",
    "\n",
    "results = []\n",
    "\n",
    "for k,v in loaded_dict.items():\n",
    "    \n",
    "    for i, each_image in enumerate(v):\n",
    "        \n",
    "        image = Image.open(io.BytesIO(each_image)).convert('RGB')\n",
    "        \n",
    "        #image.show()\n",
    "        \n",
    "        file = image.resize(IMAGE_SHAPE)\n",
    "        \n",
    "        pix = np.array(file)\n",
    "        \n",
    "        embedding = model.predict(pix[np.newaxis, ...])\n",
    "        \n",
    "        embedding_np = np.array(embedding)\n",
    "        \n",
    "        flattended_feature = embedding_np.flatten()\n",
    "        \n",
    "        results.append({'game_id': str(k), 'image_sub_id': str(k) + '_' + str(i), 'vector': flattended_feature})\n",
    "\n",
    "df = pd.DataFrame(results)\n",
    "\n",
    "df.head()\n"
   ]
  },
  {
   "cell_type": "code",
   "execution_count": null,
   "metadata": {
    "id": "m8BXSnK4mPBp"
   },
   "outputs": [],
   "source": [
    "## Save the vectors to a PKL file\n",
    "\n",
    "df.to_pickle('/content/drive/MyDrive/Recommender_project_2/image_results/vectors_41.pkl')\n"
   ]
  }
 ],
 "metadata": {
  "colab": {
   "provenance": []
  },
  "kernelspec": {
   "display_name": "Python 3",
   "language": "python",
   "name": "python3"
  },
  "language_info": {
   "codemirror_mode": {
    "name": "ipython",
    "version": 3
   },
   "file_extension": ".py",
   "mimetype": "text/x-python",
   "name": "python",
   "nbconvert_exporter": "python",
   "pygments_lexer": "ipython3",
   "version": "3.8.8"
  }
 },
 "nbformat": 4,
 "nbformat_minor": 4
}
