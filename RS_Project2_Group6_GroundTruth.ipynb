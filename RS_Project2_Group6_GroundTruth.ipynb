{
 "cells": [
  {
   "cell_type": "code",
   "execution_count": null,
   "id": "5b0cea02-82e2-4500-8d6f-7f095f284bfd",
   "metadata": {},
   "outputs": [],
   "source": [
    "# Imports\n",
    "\n",
    "import pandas as pd\n",
    "import numpy as np\n"
   ]
  },
  {
   "cell_type": "code",
   "execution_count": null,
   "id": "ea4d3b4b-1c5b-4a1e-a513-17a0f7911a2f",
   "metadata": {},
   "outputs": [],
   "source": [
    "# Generating UIR array with Ground Truth\n",
    "\n",
    "recommendations_df = pd.read_csv('drive/MyDrive/recommendations.csv', encoding = 'utf-8')\n",
    "\n",
    "recc_df = recommendations_df[recommendations_df['app_id'].isin(game_set)]\n",
    "\n",
    "conditions = [\n",
    "\n",
    "    ((recc_df['is_recommended'] == True) & (recc_df['hours'] >= 181)),\n",
    "    ((recc_df['is_recommended'] == True) & (recc_df['hours'] >= 58) & (recc_df['hours'] < 181)),\n",
    "    ((recc_df['is_recommended'] == True) & (recc_df['hours'] < 58)),\n",
    "    ((recc_df['is_recommended'] == False) & (recc_df['hours'] < 118)),\n",
    "    ((recc_df['is_recommended'] == False) & (recc_df['hours'] >= 118))\n",
    "\n",
    "]\n",
    "\n",
    "values = [5, 4, 3, 2, 1]\n",
    "\n",
    "recc_df['rating'] = np.select(conditions, values)\n",
    "\n",
    "recc_df_rated = recc_df[['user_id', 'app_id', 'rating']].reset_index(drop = True)\n",
    "\n",
    "uid_data = list(recc_df_rated.itertuples(index=False, name=None))\n",
    "\n",
    "len(uid_data)\n",
    "\n",
    "uid_data = list(recommendations_df.itertuples(index=False, name=None))\n",
    "\n",
    "len(uid_data)\n",
    "\n",
    "recc_df_rated.to_csv('./drive/MyDrive/recommendations_filtered.csv', encoding = 'utf-8', index = False)\n"
   ]
  }
 ],
 "metadata": {
  "kernelspec": {
   "display_name": "Python 3",
   "language": "python",
   "name": "python3"
  },
  "language_info": {
   "codemirror_mode": {
    "name": "ipython",
    "version": 3
   },
   "file_extension": ".py",
   "mimetype": "text/x-python",
   "name": "python",
   "nbconvert_exporter": "python",
   "pygments_lexer": "ipython3",
   "version": "3.8.8"
  }
 },
 "nbformat": 4,
 "nbformat_minor": 5
}
