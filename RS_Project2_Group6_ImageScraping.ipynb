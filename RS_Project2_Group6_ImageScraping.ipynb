{
 "cells": [
  {
   "cell_type": "code",
   "execution_count": null,
   "metadata": {},
   "outputs": [],
   "source": [
    "# Imports\n",
    "\n",
    "import pandas as pd\n",
    "import numpy as np\n",
    "import requests\n",
    "from bs4 import BeautifulSoup\n",
    "from ast import literal_eval\n",
    "import os\n"
   ]
  },
  {
   "cell_type": "code",
   "execution_count": null,
   "metadata": {},
   "outputs": [],
   "source": [
    "games = pd.read_csv('./data/games.csv')\n",
    "recommendations = pd.read_csv('./data/recommendations.csv')\n",
    "users = pd.read_csv('./data/users.csv')\n"
   ]
  },
  {
   "cell_type": "code",
   "execution_count": null,
   "metadata": {},
   "outputs": [],
   "source": [
    "games.head(10)\n"
   ]
  },
  {
   "cell_type": "code",
   "execution_count": null,
   "metadata": {},
   "outputs": [],
   "source": [
    "len(games)\n"
   ]
  },
  {
   "cell_type": "code",
   "execution_count": null,
   "metadata": {},
   "outputs": [],
   "source": [
    "def getImagesURL(site, i):\n",
    "    \n",
    "    getpage_soup = BeautifulSoup(site.text, 'html.parser')\n",
    "    images_tags = getpage_soup.findAll('a', {'class': 'highlight_screenshot_link'})\n",
    "    \n",
    "    images = []\n",
    "    \n",
    "    for img in images_tags:\n",
    "        \n",
    "        img = str(img)\n",
    "        p1 = img.find('href')\n",
    "        p2 = img.find(' rel')\n",
    "        images.append(img[p1 + 6:p2 - 1])\n",
    "        \n",
    "    return images\n"
   ]
  },
  {
   "cell_type": "code",
   "execution_count": null,
   "metadata": {},
   "outputs": [],
   "source": [
    "images_dataset = []\n",
    "\n",
    "print(\"Total: \", len(games))\n",
    "\n",
    "for i in range(len(games)):\n",
    "    \n",
    "    if (i % 1000 == 0):\n",
    "        \n",
    "        print('Now at: ', i)\n",
    "        \n",
    "        images = pd.DataFrame(images_dataset, columns = ['id', 'title', 'count', 'images_url'])\n",
    "        images.to_csv('images_url_{}.csv'.format(int(i / 1000)), index = False)\n",
    "        images_dataset = []\n",
    "    \n",
    "    site = 'https://store.steampowered.com/app/{}'.format(games.iloc[i].app_id)\n",
    "    \n",
    "    raw_site = requests.get(site)\n",
    "    \n",
    "    count = 0\n",
    "    \n",
    "    if (raw_site.status_code == 200):\n",
    "        \n",
    "        images = getImagesURL(raw_site, i)\n",
    "        images_dataset.append([games.iloc[i].app_id, games.iloc[i].title, len(images), images])\n",
    "    \n",
    "    else:\n",
    "        \n",
    "        print('Error', raw_site)\n"
   ]
  },
  {
   "cell_type": "code",
   "execution_count": null,
   "metadata": {},
   "outputs": [],
   "source": [
    "start = 3\n",
    "end = 5\n",
    "\n",
    "if not os.path.exists('./images'):\n",
    "    \n",
    "    os.mkdir('./images')\n",
    "    \n",
    "for i in range(start, end + 1):\n",
    "    \n",
    "    df = pd.read_csv('images_url_{}.csv'.format(int(i)))\n",
    "    \n",
    "    for j in range(len(df)):\n",
    "        \n",
    "        if (j % 100 == 0):\n",
    "            \n",
    "            print(j)\n",
    "            \n",
    "        if not os.path.exists('./images/{}'.format(df['id'][j])):\n",
    "            \n",
    "            os.mkdir('./images/{}'.format(df['id'][j]))\n",
    "            \n",
    "        images_links = literal_eval(df['images_url'][j])\n",
    "        \n",
    "        for k in range(len(images_links)):\n",
    "            \n",
    "            images_raw = requests.get(images_links[k])\n",
    "            \n",
    "            with open(\"./images/{}/{}.jpg\".format(df['id'][j], k), \"wb\") as f:\n",
    "                \n",
    "                f.write(images_raw.content)\n",
    "        "
   ]
  }
 ],
 "metadata": {
  "kernelspec": {
   "display_name": "Python 3",
   "language": "python",
   "name": "python3"
  },
  "language_info": {
   "codemirror_mode": {
    "name": "ipython",
    "version": 3
   },
   "file_extension": ".py",
   "mimetype": "text/x-python",
   "name": "python",
   "nbconvert_exporter": "python",
   "pygments_lexer": "ipython3",
   "version": "3.8.8"
  }
 },
 "nbformat": 4,
 "nbformat_minor": 4
}
