{
 "cells": [
  {
   "cell_type": "code",
   "execution_count": null,
   "metadata": {
    "id": "PlBQhWF5-nlV"
   },
   "outputs": [],
   "source": [
    "# Installations and Package/Data Imports\n",
    "\n",
    "!pip install -q cornac==1.15.4\n",
    "!pip install -q statistics\n",
    "\n",
    "import cornac\n",
    "import numpy as np\n",
    "import pandas as pd\n",
    "import pickle\n",
    "from tqdm import tqdm\n",
    "from statistics import harmonic_mean\n",
    "from cornac.data import Dataset, ImageModality\n",
    "from cornac.data.reader import Reader\n",
    "from cornac.eval_methods import BaseMethod, RatioSplit\n",
    "from cornac.models import CausalRec, VBPR, VMF, BPR\n",
    "from cornac.hyperopt import Discrete, Continuous\n",
    "from cornac.hyperopt import GridSearch, RandomSearch\n",
    "\n",
    "# print(f\"System version: {sys.version}\")\n",
    "# print(f\"Cornac version: {cornac.__version__}\")\n",
    "\n",
    "SEED = 42\n",
    "VERBOSE = True\n"
   ]
  },
  {
   "cell_type": "markdown",
   "metadata": {},
   "source": [
    "### Data Imports and Pre-Processing"
   ]
  },
  {
   "cell_type": "code",
   "execution_count": null,
   "metadata": {
    "id": "Bf8_dMFjAUjK"
   },
   "outputs": [],
   "source": [
    "# Importing File with Ground Truth + Image Features PKL\n",
    "\n",
    "recommendations_df = pd.read_csv('drive/MyDrive/recommendations_filtered.csv', encoding = 'utf-8')\n",
    "\n",
    "def read_pickle(path):\n",
    "\n",
    "    objects = []\n",
    "\n",
    "    with (open(path, 'rb')) as openfile:\n",
    "\n",
    "        while True:\n",
    "\n",
    "            try:\n",
    "\n",
    "                objects.append(pickle.load(openfile))\n",
    "\n",
    "            except EOFError:\n",
    "\n",
    "                break\n",
    "\n",
    "        return objects\n",
    "\n",
    "list_10k_games_vec = read_pickle('drive/MyDrive/game_image_features.pkl')\n",
    "\n",
    "uid_data = list(recommendations_df.itertuples(index = False, name = None))\n",
    "\n",
    "len(uid_data)\n"
   ]
  },
  {
   "cell_type": "code",
   "execution_count": null,
   "metadata": {
    "id": "6AqBT5RIBASV"
   },
   "outputs": [],
   "source": [
    "# Generating Image Vector array for input\n",
    "\n",
    "vector_df = list_10k_games_vec[0]\n",
    "vector_df = vector_df[vector_df['image_sub_id'].str.contains('_0')]\n",
    "\n",
    "vector_df = vector_df[['game_id', 'vector']].astype({'game_id': 'int'})\n",
    "vector_df = vector_df.sort_values(by = 'game_id').reset_index(drop = True)\n",
    "vector_df\n",
    "\n",
    "game_set = set(vector_df['game_id'])\n",
    "\n",
    "image_features_list = []\n",
    "\n",
    "idx_id_map = []\n",
    "\n",
    "for i in vector_df.iloc:\n",
    "\n",
    "    image_features_list.append(i[1])\n",
    "    idx_id_map.append(i[0])\n",
    "\n",
    "image_features = np.array(image_features_list)\n",
    "\n",
    "print(image_features.shape, len(idx_id_map))\n"
   ]
  },
  {
   "cell_type": "code",
   "execution_count": null,
   "metadata": {
    "id": "3sWPRsx4RDYg"
   },
   "outputs": [],
   "source": [
    "# User IDs with at least 10 ratings\n",
    "\n",
    "recommendations_df_drop =  recommendations_df[['user_id', 'app_id']].reset_index(drop = True)\n",
    "\n",
    "reccs_df_rated_gb = recommendations_df_drop.groupby(by = ['user_id'], as_index = False, sort = False).count()\n",
    "\n",
    "user_ids_with_atleast_10_reviews = set(reccs_df_rated_gb[(reccs_df_rated_gb['app_id'] >= 10)]['user_id'])\n",
    "\n",
    "len(user_ids_with_atleast_10_reviews)\n"
   ]
  },
  {
   "cell_type": "code",
   "execution_count": null,
   "metadata": {
    "id": "2ngI_WKfvS4Q"
   },
   "outputs": [],
   "source": [
    "# Game IDs beyond defined Threshold\n",
    "\n",
    "irecommendations_df_drop =  recommendations_df[['user_id', 'app_id']].reset_index(drop = True)\n",
    "\n",
    "ireccs_df_rated_gb = irecommendations_df_drop.groupby(by = ['app_id'], as_index = False, sort = False).count()\n",
    "\n",
    "ireccs_df_rated_gb.sort_values('user_id', inplace = True, ascending = False)\n",
    "\n",
    "game_ids_below_reviews_threshold = set(ireccs_df_rated_gb[(ireccs_df_rated_gb['user_id'] >= 100) & (ireccs_df_rated_gb['user_id'] <= 7000)]['app_id'])\n",
    "\n",
    "len(game_ids_below_reviews_threshold)\n"
   ]
  },
  {
   "cell_type": "code",
   "execution_count": null,
   "metadata": {
    "id": "XOvjLxgGSkKh"
   },
   "outputs": [],
   "source": [
    "# Game IDs that defined users have already played\n",
    "\n",
    "jrecommendations_df_drop =  recommendations_df[['user_id', 'app_id']].reset_index(drop = True)\n",
    "\n",
    "jreccs_df_user_games = jrecommendations_df_drop[(jrecommendations_df_drop['user_id'].isin(user_ids_with_atleast_10_reviews))]\n",
    "\n",
    "user_ids_with_reviewed_game_ids = dict(jreccs_df_user_games.groupby('user_id')['app_id'].apply(list))\n",
    "\n",
    "len(user_ids_with_reviewed_game_ids)\n"
   ]
  },
  {
   "cell_type": "markdown",
   "metadata": {},
   "source": [
    "### Dataset and Model Instantiation"
   ]
  },
  {
   "cell_type": "code",
   "execution_count": null,
   "metadata": {
    "id": "_ByDL33p_FGb"
   },
   "outputs": [],
   "source": [
    "# Modality/Evaluation Method/Evaluation Metrics Setup\n",
    "\n",
    "item_image_modality = ImageModality(features = np.array(image_features), ids = idx_id_map, normalized = True)\n",
    "\n",
    "ratio_split = RatioSplit(\n",
    "    \n",
    "    data = np.array(uid_data),\n",
    "    test_size = 0.1,\n",
    "    rating_threshold = 4,\n",
    "    exclude_unknowns = False,\n",
    "    verbose = VERBOSE,\n",
    "    seed = SEED,\n",
    "    item_image = item_image_modality\n",
    "    \n",
    ")\n",
    "\n",
    "auc = cornac.metrics.AUC()\n",
    "rec_20 = cornac.metrics.Recall(k = 20)\n",
    "ndcg_20 = cornac.metrics.NDCG(k = 20)\n",
    "ncrr_20 = cornac.metrics.NCRR(k = 20)\n",
    "\n",
    "metrics_list = [auc, rec_20, ndcg_20, ncrr_20]\n"
   ]
  },
  {
   "cell_type": "code",
   "execution_count": null,
   "metadata": {
    "id": "khAhkJjw_sz6"
   },
   "outputs": [],
   "source": [
    "# Model Definitions (BPR, VBPR, VMF, CausalRec)\n",
    "\n",
    "bpr = BPR( # Control\n",
    "\n",
    "    verbose = VERBOSE,\n",
    "    seed = SEED\n",
    "\n",
    ")\n",
    "\n",
    "vbpr = cornac.models.VBPR(\n",
    "    \n",
    "    k = 10,\n",
    "    k2 = 20,\n",
    "    n_epochs = 5,\n",
    "    batch_size = 100,\n",
    "    learning_rate = 0.005,\n",
    "    lambda_w = 1,\n",
    "    lambda_b = 0.01,\n",
    "    lambda_e = 0.0,\n",
    "    use_gpu = True,\n",
    "    verbose = VERBOSE,\n",
    "    seed = SEED\n",
    "    \n",
    ")\n",
    "\n",
    "vmf = cornac.models.VMF(\n",
    "    \n",
    "    k = 10,\n",
    "    d = 10,\n",
    "    n_epochs = 5,\n",
    "    batch_size = 100,\n",
    "    learning_rate = 0.001,\n",
    "    gamma = 0.9,\n",
    "    lambda_u = 0.001,\n",
    "    lambda_v = 0.001,\n",
    "    lambda_p = 1.0,\n",
    "    lambda_e = 10.0,\n",
    "    use_gpu = True,\n",
    "    verbose = VERBOSE,\n",
    "    seed = SEED\n",
    "    \n",
    ")\n",
    "\n",
    "causalrec = cornac.models.CausalRec(\n",
    "    \n",
    "    k = 32,\n",
    "    k2 = 32,\n",
    "    n_epochs = 3,\n",
    "    batch_size = 100,\n",
    "    learning_rate = 0.001,\n",
    "    lambda_w = 1,\n",
    "    lambda_b = 0.01,\n",
    "    lambda_e = 0.0,\n",
    "    mean_feat = image_features.mean(axis = 0),\n",
    "    tanh = 1,\n",
    "    lambda_2 = 0.8,\n",
    "    use_gpu = True,\n",
    "    verbose = VERBOSE,\n",
    "    seed = SEED\n",
    "    \n",
    ")\n"
   ]
  },
  {
   "cell_type": "code",
   "execution_count": null,
   "metadata": {
    "id": "w3KgTRsJjtWr"
   },
   "outputs": [],
   "source": [
    "# Model Training (VBPR)\n",
    "\n",
    "cornac.Experiment(eval_method = ratio_split, models = [vbpr], metrics = metrics_list).run()\n"
   ]
  },
  {
   "cell_type": "markdown",
   "metadata": {},
   "source": [
    "### VBPR Model Output Generation/Post-Processing"
   ]
  },
  {
   "cell_type": "code",
   "execution_count": null,
   "metadata": {
    "id": "I0GNQHbiZ-dq"
   },
   "outputs": [],
   "source": [
    "item_id2idx = dict(vbpr.train_set.iid_map)\n",
    "user_id2idx = dict(vbpr.train_set.uid_map)\n",
    "\n",
    "item_idx2id = list(vbpr.train_set.item_ids)\n",
    "user_idx2id = list(vbpr.train_set.user_ids)\n",
    "\n",
    "num_users = len(user_id2idx)\n",
    "num_games = len(item_id2idx)\n",
    "\n",
    "print(num_users, num_games)\n",
    "\n",
    "result_output = {}\n",
    "\n",
    "for i in tqdm(user_ids_with_atleast_10_reviews):\n",
    "\n",
    "    user_idx = user_id2idx[i]\n",
    "\n",
    "    user_played_games = user_ids_with_reviewed_game_ids[i]\n",
    "\n",
    "    result_output[i] = [item_idx2id[j] for j in vbpr.rank(user_idx)[0]\n",
    "\n",
    "                      if\n",
    "\n",
    "                        (\n",
    "                            (item_idx2id[j] not in user_played_games) and\n",
    "                            (item_idx2id[j] in game_ids_below_reviews_threshold)\n",
    "                         )\n",
    "\n",
    "                      ]\n"
   ]
  },
  {
   "cell_type": "code",
   "execution_count": null,
   "metadata": {
    "id": "DD14lzc0awY6"
   },
   "outputs": [],
   "source": [
    "result_output_truncated = {}\n",
    "\n",
    "for user, games in tqdm(result_output.items()):\n",
    "\n",
    "    result_output_truncated[user] = games[:10]\n",
    "    "
   ]
  },
  {
   "cell_type": "code",
   "execution_count": null,
   "metadata": {
    "id": "Kcrf9koVAe_y"
   },
   "outputs": [],
   "source": [
    "with open('drive/MyDrive/vbpr_output_for_users_with_atleast_10_reviews_POST_PROCESSING_DONE.pkl', 'wb') as outp:\n",
    "\n",
    "    pickle.dump(result_output, outp, pickle.HIGHEST_PROTOCOL)\n",
    "    "
   ]
  },
  {
   "cell_type": "code",
   "execution_count": null,
   "metadata": {
    "id": "AX6_2PYda73b"
   },
   "outputs": [],
   "source": [
    "with open('drive/MyDrive/vbpr_output_for_users_with_atleast_10_reviews_POST_PROCESSING_DONE_TRUNCATED.pkl', 'wb') as outp:\n",
    "\n",
    "    pickle.dump(result_output_truncated, outp, pickle.HIGHEST_PROTOCOL)\n",
    "    "
   ]
  },
  {
   "cell_type": "markdown",
   "metadata": {},
   "source": [
    "### VBPR Image Contribution Analysis"
   ]
  },
  {
   "cell_type": "code",
   "execution_count": null,
   "metadata": {
    "id": "4yB-owsCr_IW"
   },
   "outputs": [],
   "source": [
    "from collections import defaultdict\n",
    "\n",
    "game_df = pd.read_csv('./drive/MyDrive/games.csv', encoding = 'utf-8')\n",
    "\n",
    "UID = 19\n",
    "UIDX = user_id2idx[UID]\n",
    "\n",
    "img_features = vbpr.train_set.item_image.features\n",
    "\n",
    "rated_items = [item_idx2id[i] for i in np.nonzero(vbpr.train_set.matrix[UIDX].A)[1]]\n",
    "\n",
    "print(f\"RATED ITEMS BY USER {UID}: {rated_items}\")\n",
    "\n",
    "rated_df = defaultdict(list)\n",
    "\n",
    "for i in rated_items:\n",
    "\n",
    "    rated_df[\"Game ID\"].append(i)\n",
    "    rated_df[\"Name\"].append(game_df.loc[game_df['app_id'] == i, 'title'].item())\n",
    "\n",
    "pd.DataFrame(rated_df)\n"
   ]
  },
  {
   "cell_type": "code",
   "execution_count": null,
   "metadata": {
    "id": "vZ4gzMfHzvLx"
   },
   "outputs": [],
   "source": [
    "TOPK = 2264\n",
    "\n",
    "recommendations, scores = vbpr.rank(UIDX)\n",
    "\n",
    "print(f\"\\nTOP {TOPK} RECOMMENDATIONS:\")\n",
    "\n",
    "rec_df = defaultdict(list)\n",
    "\n",
    "for i in recommendations[:TOPK]:\n",
    "\n",
    "    game_id = item_idx2id[i]\n",
    "\n",
    "    cf_contrib = vbpr.beta_item[i] + np.dot(vbpr.gamma_item[i], vbpr.gamma_user[UIDX])\n",
    "\n",
    "    vis_contrib = vbpr.visual_bias[i] + np.dot(vbpr.theta_item[i], vbpr.theta_user[UIDX])\n",
    "\n",
    "    rec_df[\"Game ID\"].append(game_id)\n",
    "\n",
    "    rec_df[\"Score\"].append(scores[i])\n",
    "\n",
    "    rec_df[\"CF Contribution\"].append(cf_contrib)\n",
    "\n",
    "    rec_df[\"Visual Contribution\"].append(vis_contrib)\n",
    "\n",
    "    rec_df[\"Title\"].append(game_df.loc[game_df['app_id'] == game_id, 'title'].item())\n",
    "\n",
    "rec_df_calculated = pd.DataFrame(rec_df)\n",
    "\n",
    "rec_df_calculated.to_csv(f'./drive/MyDrive/{UID}_cfc_vc.csv')\n"
   ]
  },
  {
   "cell_type": "markdown",
   "metadata": {},
   "source": [
    "### Saving VBPR Model"
   ]
  },
  {
   "cell_type": "code",
   "execution_count": null,
   "metadata": {
    "id": "WXMFMxkS4AcK"
   },
   "outputs": [],
   "source": [
    "def save_pickle(obj, path):\n",
    "\n",
    "    with open(path, 'wb') as outp:\n",
    "\n",
    "        pickle.dump(obj, outp, pickle.HIGHEST_PROTOCOL)\n",
    "\n",
    "save_pickle(vbpr, f'./drive/MyDrive/vbpr_full_pickle.pkl')\n"
   ]
  },
  {
   "cell_type": "markdown",
   "metadata": {},
   "source": [
    "### Training Other (Image) Models"
   ]
  },
  {
   "cell_type": "code",
   "execution_count": null,
   "metadata": {
    "id": "-cxFY_fiB7VR"
   },
   "outputs": [],
   "source": [
    "# Model Training (BPR)\n",
    "\n",
    "cornac.Experiment(eval_method = ratio_split, models = [bpr], metrics = metrics_list).run()\n"
   ]
  },
  {
   "cell_type": "code",
   "execution_count": null,
   "metadata": {
    "id": "hnwhukzwbzQE"
   },
   "outputs": [],
   "source": [
    "# Model Training (VMF)\n",
    "\n",
    "cornac.Experiment(eval_method = ratio_split, models = [vmf], metrics = metrics_list).run()\n"
   ]
  },
  {
   "cell_type": "code",
   "execution_count": null,
   "metadata": {
    "id": "kncORaQ9_u32"
   },
   "outputs": [],
   "source": [
    "# Model Training (CausalRec)\n",
    "\n",
    "cornac.Experiment(eval_method = ratio_split, models = [causalrec], metrics = metrics_list).run()\n"
   ]
  }
 ],
 "metadata": {
  "accelerator": "GPU",
  "colab": {
   "gpuType": "V100",
   "machine_shape": "hm",
   "provenance": []
  },
  "kernelspec": {
   "display_name": "Python 3",
   "language": "python",
   "name": "python3"
  },
  "language_info": {
   "codemirror_mode": {
    "name": "ipython",
    "version": 3
   },
   "file_extension": ".py",
   "mimetype": "text/x-python",
   "name": "python",
   "nbconvert_exporter": "python",
   "pygments_lexer": "ipython3",
   "version": "3.8.8"
  }
 },
 "nbformat": 4,
 "nbformat_minor": 4
}
