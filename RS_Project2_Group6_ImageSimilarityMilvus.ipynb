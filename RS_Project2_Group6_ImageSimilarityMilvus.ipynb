{
 "cells": [
  {
   "cell_type": "code",
   "execution_count": null,
   "metadata": {
    "colab": {
     "base_uri": "https://localhost:8080/"
    },
    "id": "BlN8Tuv4iVRO",
    "outputId": "98eaa6f3-c832-407a-9442-252d43dd8cf5"
   },
   "outputs": [],
   "source": [
    "!pip -q install \"milvus[client]\"\n",
    "!pip -q install gradio\n",
    "\n",
    "# Installations, Restart the runtime and before proceeding further\n"
   ]
  },
  {
   "cell_type": "code",
   "execution_count": null,
   "metadata": {},
   "outputs": [],
   "source": [
    "# Imports\n",
    "\n",
    "from milvus import default_server\n",
    "from pymilvus import connections, utility, CollectionSchema, FieldSchema, DataType, Collection\n",
    "import io\n",
    "import pickle\n",
    "import gradio as gr\n",
    "import numpy as np\n",
    "import pandas as pd\n",
    "from PIL import Image\n"
   ]
  },
  {
   "cell_type": "code",
   "execution_count": null,
   "metadata": {
    "colab": {
     "base_uri": "https://localhost:8080/"
    },
    "id": "CiCpO1lSs5yc",
    "outputId": "23af8591-1fa7-453f-b967-bda55e01fd90"
   },
   "outputs": [],
   "source": [
    "# Necessary Shell Commands\n",
    "\n",
    "# %%shell\n",
    "# mkdir -p /content/milvus_data\n",
    "# cp -r /content/drive/MyDrive/Recommender_project_2/milvus_data/* /content/milvus_data/\n",
    "# chmod -R 777 /content/milvus_data\n"
   ]
  },
  {
   "cell_type": "code",
   "execution_count": null,
   "metadata": {
    "id": "umaY_L-HkGCk"
   },
   "outputs": [],
   "source": [
    "## Setting the base directory of Milvus for logs, data etc. Change the location to data location accordingly\n",
    "\n",
    "default_server.set_base_dir('/content/drive/MyDrive/Recommender_project_2/milvus_data')\n",
    "\n",
    "# default_server.set_base_dir('/content/milvus_data')\n"
   ]
  },
  {
   "cell_type": "code",
   "execution_count": null,
   "metadata": {
    "colab": {
     "base_uri": "https://localhost:8080/"
    },
    "id": "tkfKH1CHjwvR",
    "outputId": "33f413da-25f1-45b9-8c87-284e21c417da"
   },
   "outputs": [],
   "source": [
    "# Start your Milvus server\n",
    "\n",
    "default_server.start()\n"
   ]
  },
  {
   "cell_type": "code",
   "execution_count": null,
   "metadata": {
    "colab": {
     "base_uri": "https://localhost:8080/"
    },
    "id": "OucyUwMFj54M",
    "outputId": "d08f48c1-342b-4470-aa3b-95b6394ccfe9"
   },
   "outputs": [],
   "source": [
    "# Connect to Milvus\n",
    "\n",
    "connections.connect(\n",
    "    \n",
    "  alias = 'default',\n",
    "  host = 'localhost',\n",
    "  port = '19530'\n",
    "    \n",
    ")"
   ]
  },
  {
   "cell_type": "markdown",
   "metadata": {
    "id": "HxRiN46zjkac"
   },
   "source": [
    "# Collection creation"
   ]
  },
  {
   "cell_type": "code",
   "execution_count": null,
   "metadata": {
    "id": "JCw8UfE6jaL2"
   },
   "outputs": [],
   "source": [
    "unq_id = FieldSchema(\n",
    "  name = \"unq_id\",\n",
    "  dtype = DataType.INT64,\n",
    "  is_primary = True,\n",
    "  auto_id = True\n",
    ")\n",
    "\n",
    "game_id = FieldSchema(\n",
    "  name = \"game_id\",\n",
    "  dtype = DataType.VARCHAR,\n",
    "  max_length = 200,\n",
    ")\n",
    "\n",
    "image_sub_id = FieldSchema(\n",
    "  name = \"image_sub_id\",\n",
    "  dtype = DataType.VARCHAR,\n",
    "  max_length = 200,\n",
    ")\n",
    "\n",
    "vector = FieldSchema(\n",
    "  name = \"vector\",\n",
    "  dtype = DataType.FLOAT_VECTOR,\n",
    "  dim = 2048\n",
    ")\n",
    "\n",
    "schema = CollectionSchema(\n",
    "  fields = [unq_id, game_id, image_sub_id, vector],\n",
    "  description = \"Recommendation project images search\",\n",
    "  enable_dynamic_field = True\n",
    ")\n",
    "\n",
    "collection_name = \"rs_project2_img\"\n",
    "\n",
    "collection = Collection(\n",
    "    name = collection_name,\n",
    "    schema = schema,\n",
    "    using = \"default\"\n",
    ")\n"
   ]
  },
  {
   "cell_type": "markdown",
   "metadata": {
    "id": "BfSQ4wh5kdlJ"
   },
   "source": [
    "### Insert Image Vectors loaded from PKL file to collection"
   ]
  },
  {
   "cell_type": "code",
   "execution_count": null,
   "metadata": {
    "colab": {
     "base_uri": "https://localhost:8080/"
    },
    "id": "5H6OsADVj1Ql",
    "outputId": "40ccfac0-062f-4f95-dad0-d0cb12ae9e40"
   },
   "outputs": [],
   "source": [
    "df = pd.read_pickle('/content/drive/MyDrive/Recommender_project_2/image_results/top_10k_results_vec.pkl')\n",
    "\n",
    "df.head()\n"
   ]
  },
  {
   "cell_type": "code",
   "execution_count": null,
   "metadata": {
    "colab": {
     "base_uri": "https://localhost:8080/"
    },
    "id": "O_M7NhOokUXM",
    "outputId": "b8cdad71-e2d6-4197-de61-1b739a0c2eb0"
   },
   "outputs": [],
   "source": [
    "for i in range(0, df.shape[0], 1000):\n",
    "    \n",
    "    mr = collection.insert(df.iloc[i:i + 1000])\n",
    "    \n",
    "    print(mr)\n",
    "    "
   ]
  },
  {
   "cell_type": "code",
   "execution_count": null,
   "metadata": {
    "id": "kTkIM9AdkkgU"
   },
   "outputs": [],
   "source": [
    "# We have to flush the inserted data then only the data will actually inserted to collection\n",
    "\n",
    "collection.flush()\n"
   ]
  },
  {
   "cell_type": "markdown",
   "metadata": {
    "id": "q_XX2o-rvu3p"
   },
   "source": [
    "### List collections and load vectors"
   ]
  },
  {
   "cell_type": "code",
   "execution_count": null,
   "metadata": {
    "colab": {
     "base_uri": "https://localhost:8080/"
    },
    "id": "wlKcFLZjvuI8",
    "outputId": "7934c44f-eb94-4a49-8dd6-f57b5f89f9c0"
   },
   "outputs": [],
   "source": [
    "print(utility.list_collections())\n"
   ]
  },
  {
   "cell_type": "code",
   "execution_count": null,
   "metadata": {
    "id": "ar1YD4gZv5ws"
   },
   "outputs": [],
   "source": [
    "collection = Collection('rs_project2_img')\n"
   ]
  },
  {
   "cell_type": "markdown",
   "metadata": {
    "id": "irzHNS_0lQ_z"
   },
   "source": [
    "### Index creation"
   ]
  },
  {
   "cell_type": "code",
   "execution_count": null,
   "metadata": {
    "colab": {
     "base_uri": "https://localhost:8080/"
    },
    "id": "Cy8Sk3kAlOC4",
    "outputId": "a9f81a37-dd5c-4e23-b413-7321563832b2"
   },
   "outputs": [],
   "source": [
    "index_params = {\n",
    "  \"metric_type\": \"L2\",\n",
    "  \"index_type\": \"IVF_FLAT\",\n",
    "  \"params\": {\"nlist\":20} \n",
    "}\n",
    "\n",
    "collection.create_index(\n",
    "  field_name = \"vector\",\n",
    "  index_params = index_params\n",
    ")\n"
   ]
  },
  {
   "cell_type": "code",
   "execution_count": null,
   "metadata": {
    "colab": {
     "base_uri": "https://localhost:8080/"
    },
    "id": "N7zNPIdflXnE",
    "outputId": "7e8194cc-2a90-4841-a429-362ede2650f2"
   },
   "outputs": [],
   "source": [
    "utility.index_building_progress(\"rs_project2_img\")\n"
   ]
  },
  {
   "cell_type": "markdown",
   "metadata": {
    "id": "hoSs_W6KlvDi"
   },
   "source": [
    "### Search the image vectors"
   ]
  },
  {
   "cell_type": "code",
   "execution_count": null,
   "metadata": {
    "id": "MV1jWQmVlq9-"
   },
   "outputs": [],
   "source": [
    "# Load the collection to memory\n",
    "\n",
    "collection.load()\n"
   ]
  },
  {
   "cell_type": "code",
   "execution_count": null,
   "metadata": {
    "id": "saDlfbHSl1GO"
   },
   "outputs": [],
   "source": [
    "search_params = {\"metric_type\": \"L2\", \"params\": {\"nprobe\": 20}}\n"
   ]
  },
  {
   "cell_type": "code",
   "execution_count": null,
   "metadata": {
    "id": "bjFWZjekl_Yv"
   },
   "outputs": [],
   "source": [
    "# Sample\n",
    "\n",
    "vector_to_search = [df.iloc[0].vector]\n"
   ]
  },
  {
   "cell_type": "code",
   "execution_count": null,
   "metadata": {
    "id": "CCwo2xK2mJAV"
   },
   "outputs": [],
   "source": [
    "# Searching for top 30 similar vectors\n",
    "\n",
    "results = collection.search(\n",
    "    \n",
    "    data = vector_to_search,\n",
    "    anns_field = \"vector\",\n",
    "    param = search_params,\n",
    "    limit = 30,\n",
    "    expr = None,\n",
    "    output_fields = [\"image_sub_id\", \"game_id\"],\n",
    "    consistency_level = \"Strong\"\n",
    "    \n",
    ")\n"
   ]
  },
  {
   "cell_type": "code",
   "execution_count": null,
   "metadata": {
    "colab": {
     "base_uri": "https://localhost:8080/"
    },
    "id": "ec2CYaPOmggF",
    "outputId": "25358b66-c734-4f9a-9582-b6f270ca9f34"
   },
   "outputs": [],
   "source": [
    "for val in results[0]:\n",
    "    \n",
    "    distance = val.distance\n",
    "    \n",
    "    image_sub_id = val.entity.get(\"image_sub_id\")\n",
    "    \n",
    "    print(image_sub_id, \" \", distance)\n",
    "    "
   ]
  },
  {
   "cell_type": "markdown",
   "metadata": {
    "id": "_gbzJpS8P140"
   },
   "source": [
    "### Gradio"
   ]
  },
  {
   "cell_type": "code",
   "execution_count": null,
   "metadata": {
    "id": "PPRfhi_1QB3N"
   },
   "outputs": [],
   "source": [
    "# Load PKL\n",
    "\n",
    "with open(\"/content/drive/MyDrive/Recommender_project_2/image_results/all_results.pkl\", \"rb\") as file:\n",
    "    \n",
    "    all_images = pickle.load(file)\n",
    "\n",
    "ft_df = pd.read_pickle('/content/drive/MyDrive/Recommender_project_2/image_results/top_10k_results_vec.pkl')\n",
    "\n",
    "ft_df.head()"
   ]
  },
  {
   "cell_type": "code",
   "execution_count": null,
   "metadata": {
    "id": "LcgN06ImQh6R"
   },
   "outputs": [],
   "source": [
    "collection.load()\n",
    "\n",
    "search_params = {\"metric_type\": \"L2\", \"params\": {\"nprobe\": 20}}\n",
    "\n",
    "# def milvus_results(vector_to_search):\n",
    "    \n",
    "#     results = collection.search(\n",
    "        \n",
    "#         data = vector_to_search,\n",
    "#         anns_field = \"vector\",\n",
    "#         param = search_params,\n",
    "#         limit = 30,\n",
    "#         expr = None,\n",
    "#         output_fields = [\"image_sub_id\", \"game_id\"],\n",
    "#         consistency_level = \"Strong\"\n",
    "    \n",
    "#     )\n",
    "    \n",
    "#     sim_imgs = []\n",
    "    \n",
    "#     for val in results[0]:\n",
    "        \n",
    "#         #distance = val.distance\n",
    "        \n",
    "#         image_sub_id = val.entity.get(\"image_sub_id\")\n",
    "        \n",
    "#         print(image_sub_id, \" \", distance)\n",
    "        \n",
    "#         image_sub_id_md = [int(i) for i in image_sub_id.split('_')]\n",
    "        \n",
    "#         sim_imgs.append(image_sub_id_md)\n",
    "        \n",
    "#     return sim_imgs\n",
    "\n",
    "def milvus_results(vectors_to_search):\n",
    "    \n",
    "  '''\n",
    "  The input is the array of image vectors in a particular game.\n",
    "  It returns the image_id, sub_id and distances as array of arrays. Ex: [[730,0,230.00],[4320,1,4567]]\n",
    "  '''\n",
    "\n",
    "  final_res = []\n",
    "    \n",
    "    for each_vec in vectors_to_search:\n",
    "\n",
    "        results = collection.search(\n",
    "            \n",
    "            data = [each_vec],\n",
    "            anns_field = \"vector\",\n",
    "            param = search_params,\n",
    "            limit = 5, # Returns 5 top similar vectors. Change accordingly\n",
    "            expr = None,\n",
    "            output_fields = [\"image_sub_id\", \"game_id\"], # Return the necessary fields from the milvus database. No need game_id here\n",
    "            consistency_level = \"Strong\"\n",
    "            \n",
    "        )\n",
    "        \n",
    "    #sim_imgs = []\n",
    "    \n",
    "    for i,val in enumerate(results[0]):\n",
    "        \n",
    "        if i != 0:\n",
    "            \n",
    "            distance = val.distance\n",
    "            \n",
    "            image_sub_id = val.entity.get(\"image_sub_id\")\n",
    "            \n",
    "            # Splitting the image_id and sub_id Ex: 1234_1 => [123,1]\n",
    "            \n",
    "            image_id_subid_dis = [int(i) for i in image_sub_id.split('_')]\n",
    "            \n",
    "            image_id_subid_dis.append(distance)\n",
    "            \n",
    "            final_res.append(image_id_subid_dis)\n",
    "            \n",
    "    # Sorting the games based on the overall distances\n",
    "    \n",
    "    final_res.sort(key = lambda x: x[2])\n",
    "    \n",
    "    return final_res\n"
   ]
  },
  {
   "cell_type": "code",
   "execution_count": null,
   "metadata": {
    "id": "XGF-_2ZAQKl5"
   },
   "outputs": [],
   "source": [
    "# def get_inputs(game_id,img_sub_id):\n",
    "    \n",
    "#     game_id = int(game_id)\n",
    "    \n",
    "#     img_sub_id = int(img_sub_id)\n",
    "    \n",
    "#     res_vec_id = str(game_id) + '_' + str(img_sub_id)\n",
    "    \n",
    "#     res_vec = ft_df[ft_df['image_sub_id'] == res_vec_id].vector.values\n",
    "    \n",
    "#     milvus_imgs = milvus_results(res_vec)\n",
    "    \n",
    "#     # send res_vec to Milvus\n",
    "    \n",
    "#     print(game_id, img_sub_id)\n",
    "    \n",
    "#     input_img = all_images[game_id][img_sub_id]\n",
    "    \n",
    "#     input_image = Image.open(io.BytesIO(input_img))\n",
    "    \n",
    "#     similar_1 =  Image.open(io.BytesIO(all_images[milvus_imgs[1][0]][milvus_imgs[1][1]]))\n",
    "#     similar_2 =  Image.open(io.BytesIO(all_images[milvus_imgs[2][0]][milvus_imgs[2][1]]))\n",
    "#     similar_3 =  Image.open(io.BytesIO(all_images[milvus_imgs[3][0]][milvus_imgs[3][1]]))\n",
    "#     similar_4 =  Image.open(io.BytesIO(all_images[milvus_imgs[4][0]][milvus_imgs[4][1]]))\n",
    "#     similar_5 =  Image.open(io.BytesIO(all_images[milvus_imgs[5][0]][milvus_imgs[5][1]]))\n",
    "    \n",
    "#     return input_image,similar_1,similar_2,similar_3,similar_4,similar_5\n",
    "\n",
    "#     # return game_id,img_sub_id\n",
    "\n",
    "def get_inputs(game_id):\n",
    "    \n",
    "    all_vec = ft_df[ft_df['game_id'] == game_id].vector.values\n",
    "    \n",
    "    milvus_imgs = milvus_results(all_vec)[:5] ## Selecting only top 5\n",
    "    \n",
    "    # Send res_vec to Milvus\n",
    "    \n",
    "    distances = [[x[0],x[2]] for x in milvus_imgs]\n",
    "    \n",
    "    # Print the top game_ids and distances according to their distances\n",
    "    \n",
    "    print(distances)\n",
    "    \n",
    "    input_img = all_images[int(game_id)][0]\n",
    "    \n",
    "    input_image = Image.open(io.BytesIO(input_img))\n",
    "    \n",
    "    similar_1 =  Image.open(io.BytesIO(all_images[milvus_imgs[0][0]][milvus_imgs[0][1]]))\n",
    "    similar_2 =  Image.open(io.BytesIO(all_images[milvus_imgs[1][0]][milvus_imgs[1][1]]))\n",
    "    similar_3 =  Image.open(io.BytesIO(all_images[milvus_imgs[2][0]][milvus_imgs[2][1]]))\n",
    "    similar_4 =  Image.open(io.BytesIO(all_images[milvus_imgs[3][0]][milvus_imgs[3][1]]))\n",
    "    similar_5 =  Image.open(io.BytesIO(all_images[milvus_imgs[4][0]][milvus_imgs[4][1]]))\n",
    "    \n",
    "    return input_image, similar_1, similar_2, similar_3, similar_4, similar_5\n",
    "\n",
    "    # return game_id,img_sub_id\n"
   ]
  },
  {
   "cell_type": "code",
   "execution_count": null,
   "metadata": {
    "colab": {
     "base_uri": "https://localhost:8080/"
    },
    "id": "geVqT2NKJybi",
    "outputId": "caced5b9-9481-4f7f-c1ed-57114b8a871b"
   },
   "outputs": [],
   "source": [
    "# Sample\n",
    "\n",
    "ft_df[ft_df['game_id'] == '2281410'].vector.values\n"
   ]
  },
  {
   "cell_type": "code",
   "execution_count": null,
   "metadata": {
    "colab": {
     "base_uri": "https://localhost:8080/"
    },
    "id": "0P4iZz9BQKi_",
    "outputId": "b9580a4d-7a3c-4ff8-9a96-c444244256b4"
   },
   "outputs": [],
   "source": [
    "list(all_images.keys())[:10]\n"
   ]
  },
  {
   "cell_type": "code",
   "execution_count": null,
   "metadata": {
    "colab": {
     "base_uri": "https://localhost:8080/",
     "height": 1000
    },
    "id": "Cdsej5HdQKgV",
    "outputId": "e336d056-2a3a-42bf-c589-ee1f734fb4ea"
   },
   "outputs": [],
   "source": [
    "demo = gr.Interface(\n",
    "    \n",
    "    fn = get_inputs,\n",
    "    inputs = \"text\",\n",
    "    outputs = [\n",
    "        \n",
    "        gr.Image(type = \"pil\", label = 'Input'),\n",
    "        gr.Image(type = \"pil\", label = 'Output'),\n",
    "        gr.Image(type = \"pil\", label = 'Output'),\n",
    "        gr.Image(type = \"pil\", label = 'Output'),\n",
    "        gr.Image(type = \"pil\", label = 'Output'),\n",
    "        gr.Image(type = \"pil\", label = 'Output')\n",
    "    \n",
    "    ],\n",
    "    \n",
    "    # outputs = ['number','number']\n",
    "\n",
    ")\n",
    "\n",
    "demo.launch(debug = True)\n"
   ]
  },
  {
   "cell_type": "markdown",
   "metadata": {},
   "source": [
    "### Generate Similar Recommendations"
   ]
  },
  {
   "cell_type": "code",
   "execution_count": null,
   "metadata": {},
   "outputs": [],
   "source": [
    "# Get all game_ids\n",
    "\n",
    "all_game_ids = ft_df.game_id.unique()\n",
    "\n",
    "# all_game_ids[:10]\n",
    "\n",
    "collection.load()\n",
    "\n",
    "search_params = {\"metric_type\": \"L2\", \"params\": {\"nprobe\": 20}}\n",
    "\n",
    "def milvus_results(vectors_to_search):\n",
    "    \n",
    "  '''\n",
    "  The input is the array of image vectors in a particular game.\n",
    "  It returns the image_id, sub_id and distances as array of arrays. Ex: [[730,0,230.00],[4320,1,4567]]\n",
    "  '''\n",
    "\n",
    "    final_res = []\n",
    "    \n",
    "    for each_vec in vectors_to_search:\n",
    "\n",
    "    results = collection.search(\n",
    "        \n",
    "        data = [each_vec],\n",
    "        anns_field = \"vector\",\n",
    "        param = search_params,\n",
    "        limit = 5, # Returns 5 top similar vectors. Change accordingly\n",
    "        expr = None,\n",
    "        output_fields = [\"image_sub_id\", \"game_id\"], # Return the necessary fields from the milvus database. No need game_id here\n",
    "        consistency_level = \"Strong\" \n",
    "    \n",
    "    )\n",
    "    \n",
    "    #sim_imgs = []\n",
    "    \n",
    "    for i, val in enumerate(results[0]):\n",
    "        \n",
    "        if i != 0:\n",
    "            \n",
    "            distance = val.distance\n",
    "            \n",
    "            image_sub_id = val.entity.get(\"image_sub_id\")\n",
    "            \n",
    "            # Splitting the image_id and sub_id Ex: 1234_1 => [123,1]\n",
    "            \n",
    "            image_id_subid_dis = [int(i) for i in image_sub_id.split('_')]\n",
    "            \n",
    "            image_id_subid_dis.append(distance)\n",
    "            \n",
    "            final_res.append(image_id_subid_dis)\n",
    "            \n",
    "    ## Sorting the games based on the overall distances\n",
    "    \n",
    "    final_res.sort(key = lambda x: x[2])\n",
    "    \n",
    "    return final_res\n",
    "\n",
    "def search_milvus(game_id):\n",
    "    \n",
    "    print('working on ', game_id)\n",
    "    \n",
    "    all_vec = ft_df[ft_df[\"game_id\"] == game_id].vector.values\n",
    "    \n",
    "    milvus_imgs = milvus_results(all_vec)[:5] # Selecting only top 5\n",
    "    \n",
    "    # send res_vec to Milvus\n",
    "    \n",
    "    distances = [[x[0],x[2]] for x in milvus_imgs]\n",
    "    \n",
    "    # Print the top game_ids and distances according to their distances\n",
    "    \n",
    "    # print(distances)\n",
    "    \n",
    "    return distances\n",
    "\n",
    "final_results = {}\n",
    "\n",
    "# for all game_ids search Milvus for all similar images\n",
    "\n",
    "for i,each_game in enumerate(all_game_ids):\n",
    "    \n",
    "    if i % 100 == 0:\n",
    "\n",
    "        print(\"Done \", i)\n",
    "\n",
    "    recm = search_milvus(each_game)\n",
    "\n",
    "    final_results[each_game] = recm\n",
    "\n",
    "# Saving the recommendations to PKL\n",
    "\n",
    "with open('/content/drive/MyDrive/Recommender_project_2/recommendations.pkl','wb') as handle:\n",
    "    \n",
    "    pickle.dump(final_results,handle, protocol=pickle.HIGHEST_PROTOCOL)\n"
   ]
  },
  {
   "cell_type": "markdown",
   "metadata": {
    "id": "7fkaf_W3nafg"
   },
   "source": [
    "### Close the Milvus Server"
   ]
  },
  {
   "cell_type": "code",
   "execution_count": null,
   "metadata": {
    "colab": {
     "base_uri": "https://localhost:8080/"
    },
    "id": "VeA-pOiGXQiZ",
    "outputId": "421f099e-deeb-4556-dbcb-4f01c18d1491"
   },
   "outputs": [],
   "source": [
    "demo.close()\n"
   ]
  },
  {
   "cell_type": "code",
   "execution_count": null,
   "metadata": {
    "id": "etijsc4xnQxp"
   },
   "outputs": [],
   "source": [
    "collection.release()\n",
    "connections.disconnect(\"default\")\n"
   ]
  },
  {
   "cell_type": "code",
   "execution_count": null,
   "metadata": {
    "id": "nHVxFBSzn3-K"
   },
   "outputs": [],
   "source": [
    "default_server.stop()\n"
   ]
  },
  {
   "cell_type": "code",
   "execution_count": null,
   "metadata": {
    "id": "pABNdACQnd0i"
   },
   "outputs": [],
   "source": [
    "# Optional, if you want to cleanup previous data\n",
    "\n",
    "# default_server.cleanup()\n"
   ]
  }
 ],
 "metadata": {
  "colab": {
   "provenance": []
  },
  "kernelspec": {
   "display_name": "Python 3",
   "language": "python",
   "name": "python3"
  },
  "language_info": {
   "codemirror_mode": {
    "name": "ipython",
    "version": 3
   },
   "file_extension": ".py",
   "mimetype": "text/x-python",
   "name": "python",
   "nbconvert_exporter": "python",
   "pygments_lexer": "ipython3",
   "version": "3.8.8"
  }
 },
 "nbformat": 4,
 "nbformat_minor": 4
}
